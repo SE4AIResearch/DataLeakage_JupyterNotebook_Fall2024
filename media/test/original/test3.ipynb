{
 "cells": [
  {
   "cell_type": "code",
   "execution_count": null,
   "metadata": {},
   "outputs": [],
   "source": [
    "import pandas as pd\n",
    "import numpy as np\n",
    "\n",
    "df = pd.read_csv('data.csv')\n",
    "l = len(df) \n",
    "\n",
    "y = df['Survived']\n",
    "df = df.drop('Survived', axis=1)\n",
    "# df1 = df.copy()\n",
    "# df1['Fare'] = df['Fare'].fillna(np.mean(df['Fare']), inplace = False)\n",
    "from sklearn import preprocessing\n",
    "df1 = preprocessing.scale(df)\n",
    "\n",
    "from sklearn.model_selection import train_test_split\n",
    "X_train, X_test, y_train, y_test = train_test_split(df, y, test_size=0.33, random_state=42)\n",
    "\n",
    "from sklearn.linear_model import LogisticRegression\n",
    "clf = LogisticRegression(penalty='l2', solver=\"sag\", random_state=0)\n",
    "clf.fit(X_train, y_train)\n",
    "y_pred = clf.predict(X_test)"
   ]
  }
 ],
 "metadata": {
  "kernelspec": {
   "display_name": ".venv",
   "language": "python",
   "name": "python3"
  },
  "language_info": {
   "name": "python",
   "version": "3.12.7"
  }
 },
 "nbformat": 4,
 "nbformat_minor": 2
}
