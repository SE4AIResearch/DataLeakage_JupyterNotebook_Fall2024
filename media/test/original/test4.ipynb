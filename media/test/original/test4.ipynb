{
 "cells": [
  {
   "cell_type": "code",
   "execution_count": null,
   "metadata": {},
   "outputs": [],
   "source": [
    "import pandas as pd\n",
    "from sklearn.feature_selection import SelectPercentile, chi2\n",
    "from sklearn.model_selection import LinearRegression, train_test_split\n",
    "\n",
    "inputs = pd.read_csv(\"data.csv\")\n",
    "y = inputs[\"label\"]\n",
    "data0 = inputs.drop(\"label\")\n",
    "\n",
    "data = data0\n",
    "X_train_0, y_train, X_test_0, y_test = train_test_split(data, y)\n",
    "\n",
    "select = SelectPercentile(chi2, percentile=50)\n",
    "select.fit(X_train_0)\n",
    "X_train = select.transform(X_train_0)\n",
    "X_test = select.transform(X_test_0)\n",
    "\n",
    "model = LinearRegression()\n",
    "model.fit(X_train, y_train)\n",
    "model.score(X_test, y_test)"
   ]
  }
 ],
 "metadata": {
  "language_info": {
   "name": "python"
  }
 },
 "nbformat": 4,
 "nbformat_minor": 2
}
