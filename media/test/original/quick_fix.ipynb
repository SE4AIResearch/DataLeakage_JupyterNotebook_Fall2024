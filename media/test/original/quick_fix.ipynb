{
 "cells": [
  {
   "cell_type": "code",
   "execution_count": null,
   "metadata": {},
   "outputs": [
    {
     "ename": "ImportError",
     "evalue": "cannot import name 'LinearRegression' from 'sklearn.model_selection' (/home/terrence/Projects/stevens/stevens_senior_design/DataLeakage_JupyterNotebook_Fall2024/media/test/.venv/lib64/python3.13/site-packages/sklearn/model_selection/__init__.py)",
     "output_type": "error",
     "traceback": [
      "\u001b[0;31m---------------------------------------------------------------------------\u001b[0m",
      "\u001b[0;31mImportError\u001b[0m                               Traceback (most recent call last)",
      "Cell \u001b[0;32mIn[1], line 3\u001b[0m\n\u001b[1;32m      1\u001b[0m \u001b[38;5;28;01mimport\u001b[39;00m \u001b[38;5;21;01mpandas\u001b[39;00m \u001b[38;5;28;01mas\u001b[39;00m \u001b[38;5;21;01mpd\u001b[39;00m\n\u001b[1;32m      2\u001b[0m \u001b[38;5;28;01mfrom\u001b[39;00m \u001b[38;5;21;01msklearn\u001b[39;00m\u001b[38;5;21;01m.\u001b[39;00m\u001b[38;5;21;01mfeature_selection\u001b[39;00m \u001b[38;5;28;01mimport\u001b[39;00m (SelectPercentile, chi2)\n\u001b[0;32m----> 3\u001b[0m \u001b[38;5;28;01mfrom\u001b[39;00m \u001b[38;5;21;01msklearn\u001b[39;00m\u001b[38;5;21;01m.\u001b[39;00m\u001b[38;5;21;01mmodel_selection\u001b[39;00m \u001b[38;5;28;01mimport\u001b[39;00m (LinearRegression, Ridge)\n\u001b[1;32m      5\u001b[0m X_0, y \u001b[38;5;241m=\u001b[39m load_data()\n\u001b[1;32m      7\u001b[0m X_train_0, y_train, X_test_0, y_test \u001b[38;5;241m=\u001b[39m train_test_split(X,y)\n",
      "\u001b[0;31mImportError\u001b[0m: cannot import name 'LinearRegression' from 'sklearn.model_selection' (/home/terrence/Projects/stevens/stevens_senior_design/DataLeakage_JupyterNotebook_Fall2024/media/test/.venv/lib64/python3.13/site-packages/sklearn/model_selection/__init__.py)"
     ]
    }
   ],
   "source": [
    "import pandas as pd\n",
    "from sklearn.feature_selection import (SelectPercentile, chi2)\n",
    "from sklearn.model_selection import (LinearRegression, Ridge)\n",
    "\n",
    "X_0, y = load_data()\n",
    "\n",
    "select = SelectPercentile(chi2, percentile=50)\n",
    "select.fit(X_0)\n",
    "X = select.transform(X_0)\n",
    "\n",
    "X_train, y_train, X_test, y_test = train_test_split(X,y)\n",
    "lr = LinearRegression()\n",
    "lr.fit(X_train, y_train)\n",
    "lr_score = lr.score(X_test, y_test)\n",
    "\n",
    "ridge = Ridge()\n",
    "ridge.fit(X, y)\n",
    "ridge_score = ridge.score(X_test, y_test)\n",
    "\n",
    "final_model = lr if lr_score > ridge_score else ridge"
   ]
  }
 ],
 "metadata": {
  "kernelspec": {
   "display_name": ".venv",
   "language": "python",
   "name": "python3"
  },
  "language_info": {
   "codemirror_mode": {
    "name": "ipython",
    "version": 3
   },
   "file_extension": ".py",
   "mimetype": "text/x-python",
   "name": "python",
   "nbconvert_exporter": "python",
   "pygments_lexer": "ipython3",
   "version": "3.13.2"
  }
 },
 "nbformat": 4,
 "nbformat_minor": 2
}
