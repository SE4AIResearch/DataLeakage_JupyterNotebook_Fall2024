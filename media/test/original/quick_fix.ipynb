{
 "cells": [
  {
   "cell_type": "code",
   "execution_count": null,
   "metadata": {},
   "outputs": [],
   "source": [
    "import pandas as pd\n",
    "from sklearn.feature_selection import (SelectPercentile, chi2)\n",
    "from sklearn.model_selection import (LinearRegression, Ridge)\n",
    "\n",
    "X_0, y = load_data()\n",
    "\n",
    "select = SelectPercentile(chi2, percentile=50)\n",
    "select.fit(X_0)\n",
    "X = select.transform(X_0)\n",
    "\n",
    "X_train, X_test, y_train, y_test = train_test_split(X,y)\n",
    "lr = LinearRegression()\n",
    "lr.fit(X_train, y_train)\n",
    "lr_score = lr.score(X_test, y_test)\n",
    "\n",
    "ridge = Ridge()\n",
    "ridge.fit(X, y)\n",
    "ridge_score = ridge.score(X_test, y_test)\n",
    "\n",
    "final_model = lr if lr_score > ridge_score else ridge"
   ]
  }
 ],
 "metadata": {
  "kernelspec": {
   "display_name": ".venv",
   "language": "python",
   "name": "python3"
  },
  "language_info": {
   "codemirror_mode": {
    "name": "ipython",
    "version": 3
   },
   "file_extension": ".py",
   "mimetype": "text/x-python",
   "name": "python",
   "nbconvert_exporter": "python",
   "pygments_lexer": "ipython3",
   "version": "3.13.3"
  }
 },
 "nbformat": 4,
 "nbformat_minor": 2
}
