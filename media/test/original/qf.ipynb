{
 "cells": [
  {
   "cell_type": "code",
   "execution_count": null,
   "metadata": {
    "vscode": {
     "languageId": "plaintext"
    }
   },
   "outputs": [],
   "source": [
    "import pandas as pd\n",
    "from sklearn . feature_selection import (SelectPercentile,\n",
    "                                         chi2)\n",
    "from sklearn . model_selection import (LinearRegression,\n",
    "                                       Ridge)\n",
    "\n",
    "X_0, y = load_data()\n",
    "\n",
    "X_train, y_train, X_test, y_test = train_test_split(X,y)\n",
    "\n",
    "select = SelectPercentile(chi2, percentile=50)\n",
    "select.fit(X_train)\n",
    "X_train_0 = select.transform(X_train)\n",
    "X_test_0 = select.transform(X_test)\n",
    "\n",
    "\n",
    "lr = LinearRegression()\n",
    "lr.fit(X_train_0, y_train)\n",
    "lr_score = lr.score(X_test_0, y_test)\n",
    "\n",
    "ridge = Ridge()\n",
    "ridge.fit(X_train_0, y)\n",
    "ridge_score = ridge.score(X_test_0, y_test)\n",
    "\n",
    "final_model = lr if lr_score > ridge_score else ridge\n",
    "X_X_test_new, y_X_test_new = load_test_data()\n",
    "X_X_test_new_0 = select.transform(X_X_test_new)\n",
    "final_model.score(X_X_test_new_0, y_X_test_new)"
   ]
  }
 ],
 "metadata": {
  "language_info": {
   "name": "python"
  }
 },
 "nbformat": 4,
 "nbformat_minor": 2
}
