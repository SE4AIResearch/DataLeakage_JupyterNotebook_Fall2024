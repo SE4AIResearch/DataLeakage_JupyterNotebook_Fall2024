{
 "cells": [
  {
   "cell_type": "code",
   "execution_count": null,
   "metadata": {},
   "outputs": [],
   "source": [
    "from sklearn.datasets import fetch_openml\n",
    "from imblearn.datasets import make_imbalance\n",
    "X, y = fetch_openml(\n",
    "    data_id=1119, as_frame=True, return_X_y=True\n",
    ")\n",
    "X = X.select_dtypes(include=\"number\")\n",
    "X, y = make_imbalance(\n",
    "    X, y, sampling_strategy={\">50K\": 300}, random_state=1\n",
    ")\n",
    "from sklearn.experimental import enable_hist_gradient_boosting\n",
    "from sklearn.ensemble import HistGradientBoostingClassifier\n",
    "from sklearn.model_selection import cross_validate\n",
    "\n",
    "from imblearn.over_sampling import RandomOverSampler\n",
    "from sklearn.model_selection import train_test_split\n",
    "sampler = RandomOverSampler(random_state=0)\n",
    "X_resampled, y_resampled = sampler.fit_resample(X, y)\n",
    "X_train, X_test, y_train, y_test = train_test_split(X_resampled, y_resampled, test_size=0.2, random_state=0)\n",
    "model = HistGradientBoostingClassifier(random_state=0)\n",
    "model.fit(X_train, y_train)\n",
    "model.predict(X_test)\n",
    "# cv_results = cross_validate(\n",
    "#     model, X_resampled, y_resampled, scoring=\"balanced_accuracy\",\n",
    "#     return_train_score=True, return_estimator=True,\n",
    "#     n_jobs=-1\n",
    "# )\n",
    "# print(\n",
    "#     f\"Balanced accuracy mean +/- std. dev.: \"\n",
    "#     f\"{cv_results['test_score'].mean():.3f} +/- \"\n",
    "#     f\"{cv_results['test_score'].std():.3f}\"\n",
    "# )\n"
   ]
  }
 ],
 "metadata": {
  "language_info": {
   "name": "python"
  }
 },
 "nbformat": 4,
 "nbformat_minor": 2
}
