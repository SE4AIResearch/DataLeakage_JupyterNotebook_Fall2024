{
 "cells": [
  {
   "cell_type": "code",
   "execution_count": null,
   "metadata": {},
   "outputs": [],
   "source": [
    "from sklearn.datasets import fetch_openml\n",
    "from imblearn.datasets import make_imbalance\n",
    "X, y = fetch_openml(\n",
    "    data_id=1119, as_frame=True, return_X_y=True\n",
    ")\n",
    "X = X.select_dtypes(include=\"number\")\n",
    "X, y = make_imbalance(\n",
    "    X, y, sampling_strategy={\">50K\": 300}, random_state=1\n",
    ")\n",
    "from sklearn.experimental import enable_hist_gradient_boosting\n",
    "from sklearn.ensemble import HistGradientBoostingClassifier\n",
    "from sklearn.model_selection import cross_validate\n",
    "\n",
    "from imblearn.over_sampling import RandomOverSampler\n",
    "from sklearn.model_selection import train_test_split\n",
    "sampler = RandomOverSampler(random_state=0)\n",
    "X_train, X_test, y_train, y_test = train_test_split(X, y, test_size=0.2, random_state=0)\n",
    "\n",
    "X_resampled, y_resampled = sampler.fit_resample(X_train, y_train)\n",
    "model = HistGradientBoostingClassifier(random_state=0)\n",
    "model.fit(X_resampled, y_resampled)\n",
    "model.predict(X_test)"
   ]
  }
 ],
 "metadata": {
  "language_info": {
   "name": "python"
  }
 },
 "nbformat": 4,
 "nbformat_minor": 2
}
